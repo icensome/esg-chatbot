{
 "cells": [
  {
   "cell_type": "code",
   "execution_count": 1,
   "metadata": {},
   "outputs": [],
   "source": [
    "%reload_ext dotenv\n",
    "%dotenv"
   ]
  },
  {
   "cell_type": "code",
   "execution_count": 2,
   "metadata": {},
   "outputs": [
    {
     "name": "stdout",
     "output_type": "stream",
     "text": [
      "======== Job Completed ========\n"
     ]
    }
   ],
   "source": [
    "!pip install -qU python-dotenv\n",
    "!pip install -qU PyPDF2\n",
    "!pip install -qU langchain\n",
    "!pip install -qU langchain-community\n",
    "!pip install -qU langchain-core\n",
    "!pip install -qU langchain-text-splitters\n",
    "!pip install -qU langchain_upstage\n",
    "!pip install -qU oracledb\n",
    "print(\"======== Job Completed ========\")"
   ]
  },
  {
   "cell_type": "code",
   "execution_count": 4,
   "metadata": {},
   "outputs": [
    {
     "name": "stdout",
     "output_type": "stream",
     "text": [
      "Successfully imported libraries and modules\n"
     ]
    }
   ],
   "source": [
    "import sys\n",
    "import array\n",
    "import time\n",
    "import os\n",
    "from dotenv import load_dotenv\n",
    "\n",
    "import oracledb\n",
    "from langchain_community.vectorstores import oraclevs\n",
    "from langchain_community.vectorstores.oraclevs import OracleVS\n",
    "\n",
    "from langchain_community.vectorstores.utils import DistanceStrategy\n",
    "from langchain_core.documents import BaseDocumentTransformer, Document\n",
    "\n",
    "from langchain_core.prompts import PromptTemplate\n",
    "from langchain.chains import LLMChain\n",
    "from langchain_core.runnables import RunnablePassthrough\n",
    "from langchain_core.output_parsers import StrOutputParser\n",
    "\n",
    "import warnings\n",
    "warnings.filterwarnings(\"ignore\")\n",
    "\n",
    "print(\"Successfully imported libraries and modules\")"
   ]
  },
  {
   "cell_type": "code",
   "execution_count": 26,
   "metadata": {},
   "outputs": [
    {
     "name": "stdout",
     "output_type": "stream",
     "text": [
      "Connection successful! 23.4.1.24.6\n"
     ]
    }
   ],
   "source": [
    "username=os.environ[\"DB_USER\"]\n",
    "password=os.environ[\"DB_PASSWORD\"]\n",
    "dsn=os.environ[\"DSN\"]\n",
    "\n",
    "con = oracledb.connect(user=username, password=password, dsn=dsn)\n",
    "\n",
    "try: \n",
    "    conn23c = oracledb.connect(user=username, password=password, dsn=dsn)\n",
    "    print(\"Connection successful!\", conn23c.version)\n",
    "except Exception as e:\n",
    "    print(\"Connection failed!\")"
   ]
  },
  {
   "cell_type": "code",
   "execution_count": 27,
   "metadata": {},
   "outputs": [],
   "source": [
    "from langchain_upstage import UpstageLayoutAnalysisLoader\n",
    "from langchain_text_splitters import (\n",
    "    Language,\n",
    "    RecursiveCharacterTextSplitter,\n",
    ")\n",
    "\n",
    "def document(file_path, company):\n",
    "    #file_path = \"./oracle-database-23ai-new-features-guide.pdf\"\n",
    "    #file_path = \"./info/4_위니아_2023en.pdf\"\n",
    "    layzer = UpstageLayoutAnalysisLoader(file_path, split=\"page\")\n",
    "\n",
    "    # For improved memory efficiency, consider using the lazy_load method to load documents page by page.\n",
    "    docs = layzer.load()  # or layzer.lazy_load()\n",
    "\n",
    "    text_splitter = RecursiveCharacterTextSplitter.from_language(\n",
    "        chunk_size=1500, chunk_overlap=200, language=Language.HTML\n",
    "    )\n",
    "    docs = text_splitter.split_documents(docs)\n",
    "\n",
    "    for doc in docs:\n",
    "        doc.metadata['company'] = company\n",
    "\n",
    "    return docs\n",
    "\n",
    "\n",
    "docs1 = document(\"./info/1_LG_2022.pdf\", \"LG\")\n",
    "docs2 = document(\"./info/2_삼성전자_2023(ENG).pdf\", \"Samsung\")\n",
    "docs3 = document(\"./info/3_캐리어_2023.pdf\", \"Carrier\")\n",
    "docs4 = document(\"./info/4_위니아_2023en.pdf\", \"Winia\")\n",
    "docs5 = document(\"./info/5_미쓰비시일렉트릭_2023.pdf\", \"Mitsubishi\")\n",
    "docs6 = document(\"./info/6_파나소닉그룹_2023.pdf\", \"Panasonic\")\n",
    "docs7 = document(\"./info/7_한솔_2023.pdf\", \"Hansol\")\n",
    "docs8 = document(\"./info/8_하이메이드_2023.pdf\", \"Himade\")\n",
    "docs9 = document(\"./info/9_센추리_2023.pdf\", \"Century\")\n",
    "docs10 = document(\"./info/10_하이얼_2023.pdf\", \"Haier\")"
   ]
  },
  {
   "cell_type": "code",
   "execution_count": 28,
   "metadata": {},
   "outputs": [],
   "source": [
    "docs = docs1 + docs2 + docs3 + docs4 + docs5 + docs6 + docs7 + docs8 + docs9 + docs10"
   ]
  },
  {
   "cell_type": "code",
   "execution_count": 29,
   "metadata": {},
   "outputs": [
    {
     "name": "stdout",
     "output_type": "stream",
     "text": [
      "Vectorizing and inserting chunks duration: 1530.3 sec.\n"
     ]
    }
   ],
   "source": [
    "from langchain_upstage import UpstageEmbeddings\n",
    " \n",
    "upstage_embeddings = UpstageEmbeddings(model=\"solar-embedding-1-large\")\n",
    "     \n",
    "# Configure the vector store with the model, table name, and using the indicated distance strategy for the similarity search and vectorize the chunks\n",
    "s1time = time.time()\n",
    "\n",
    "knowledge_base = OracleVS.from_documents(docs, upstage_embeddings, client=conn23c, \n",
    "                    table_name=\"text_embeddings2\", \n",
    "                    distance_strategy=DistanceStrategy.DOT_PRODUCT)    \n",
    "\n",
    "s2time =  time.time()      \n",
    "print( f\"Vectorizing and inserting chunks duration: {round(s2time - s1time, 1)} sec.\")"
   ]
  },
  {
   "cell_type": "code",
   "execution_count": 15,
   "metadata": {},
   "outputs": [
    {
     "name": "stdout",
     "output_type": "stream",
     "text": [
      "The prompt to the LLM will be: What specific steps is the company taking to reduce GHG emissions in line with the Paris Agreement?\n",
      "Search for the user question in the Oracle Database 23ai and return similar chunks duration: 1.3 sec.\n"
     ]
    },
    {
     "data": {
      "text/plain": [
       "[Document(metadata={'page': 24}, page_content=\"<p id='57' data-category='paragraph' style='font-size:16px'>현대위아 환경경영 추진조직은 매월 기후변화 리스크를 식별 및 평가<br>하고 있으며, 기후변화 리스크에 대한 전사적인 실행 계획을 수립하<br>고 온실가스 감축 목표 및 관련 투자 의사결정을 지원하고 있습니다.<br>식별된 기후변화 리스크 중 중대한 이슈로 평가된 경우는 CEO 및 이<br>사회에 보고되어 최종적으로 의사결정이 이루어 집니다.</p> <p id='58' data-category='paragraph' style='font-size:16px'>또한 현대위아는 기후변화 관련 리스크를 구조화하여 관리하기 위해<br>환경정책 및 관리규정을 명문화하고 환경경영시스템을 구축・운영하<br>며, 환경경영 관련 법규를 지속적으로 모니터링합니다.</p> <br><p id='59' data-category='paragraph' style='font-size:16px'>이와 더불어 현대위아는 ESG 평가결과를 KPI별 성과에 반영하고,<br>유관 부서 팀장급 이상 관리자의 KPI에 온실가스 배출량 원단위 개선<br>율 등 환경관리 지표를 포함시킴으로써 기후변화 관련 리스크가 전사<br>리스크 관리체계에 통합될 수 있도록 체계를 구축하였습니다.</p> <h1 id='60' style='font-size:18px'>기후변화 리스크 관리 체계</h1> <p id='61' data-category='paragraph' style='font-size:18px'>2˚C 이하 시나리오 등 다양한 기후변화 관련 시나리오를 고려한 경영전략의 유연성</p> <br><p id='62' data-category='paragraph' style='font-size:16px'>현대위아는 다양한 기후변화 시나리오 상황에서 현대위아와 관련된 기후변화 리스크 및 기회가 미칠 수 있는 잠재적 재무영향에 대하여 적합하게<br>대응할 수 있는 경영전략을 수립합니다. 현대위아는 TCFD 권고안에 따라 비즈니스모델 영향도를 중심으로 기후변화로 인한 리스크를 전환 리스<br>크, 물리적 리스크로 구분하여 검토하며, 단기, 중기, 장기적 관점에서 파악한 재무적 영향을 경영전략과 통합하여 관리합니다.</p> <br>\"),\n",
       " Document(metadata={'page': 24}, page_content='<p id=\\'63\\' data-category=\\'paragraph\\' style=\\'font-size:16px\\'>대표적으로 전환 리스크는 국제에너지기구(IEA, International Energy Agency)의 넷제로 2050(NZE, Net-Zero Emissions by 2050) 시나리<br>오를 중심으로 온실가스 감축 목표 및 투자 예산, 친환경 기술개발 로드맵을 검토하여 경영전략에 반영하였습니다. 물리적 리스크의 경우 기후변화<br>에 관한 정부간 협의체(IPCC, Intergovernmental Panel on Climate Change) 보고서의 RCP 8.5* 시나리오 중심으로 당사 사업장의 공간, 기<br>상 조건 하에서 발생할 수 있는 재해 리스크 및 잠재적 재무영향을 분석하고 이러한 리스크에 선제적으로 대응할 수 있는 방안을 강구하였습니다.</p> <br><figure><img id=\\'64\\' style=\\'font-size:14px\\' alt=\"환경경영 정책 수립 및 고도화\\n환경경영시스템 구축 및 관리규정 도입\\n환경경영 관련 법률/규제 모니터링\\n환경경영 * 기후변화 리스크 식별, 평가, 실행\\n추진조직 계획 수립 및 실적 검토(매월)\\n* 중요 기후변화 리스크 대응전략 심의,\\n이사회\\n의결(발생시)\\nCEO\\n* 기후변화 대응 추진 성과 보고(매 분기)\\n기후변화 대응 성과 KPI 반영을 통한\\n지속적인 리스크 관리 및 성과 개선\" data-coord=\"top-left:(1164,631); bottom-right:(1644,1159)\" /></figure> <br><p id=\\'65\\' data-category=\\'paragraph\\' style=\\'font-size:14px\\'>* RCP 8.5 (Representative Concentration Pathways): 온실가스 저감 없이 현재 추세대로 온실가스가 배출되는 경우 적용되는 예상 시나리오</p>'),\n",
       " Document(metadata={'page': 27}, page_content=\"<h1 id='121' style='font-size:18px'>공급망 탄소중립 관리</h1> <br><p id='122' data-category='paragraph' style='font-size:16px'>현대위아는 Value Chain의 탄소중립을 위하여 공급망 탄소중립 로<br>드맵을 수립하였습니다. 2023년에는 ESG 정보관리 시스템을 구축<br>하여 협력사들의 온실가스 데이터를 수집하고 공급망 부문 중점관리<br>협력사를 선정할 예정입니다. 향후에도 협력사의 온실가스 관리 및<br>지원 활동을 다방면으로 추진하여 보다 체계적으로 탄소중립 목표를<br>달성하기 위한 노력을 이어 나가겠습니다.</p> <h1 id='123' style='font-size:18px'>공급망 탄소중립 로드맵</h1> <br><h1 id='124' style='font-size:18px'>재생에너지 전환</h1> <br><p id='125' data-category='paragraph' style='font-size:16px'>현대위아는 2022년 RE100* 가입 최종 승인 완료와 더불어 탄소중립 중점 이행사항으로 2030년까지 60%, 2040년 90%, 2045년까지 100% 재<br>생에너지로 전환하는 것을 중장기 목표로 설정하였습니다. 현대위아는 재생에너지 자가발전(태양광)과 전력구매계약(PPA) 확대, 인증서(REC) 구매<br>등 재생에너지 전환을 위한 전략 과제를 다방면으로 추진하여 보다 효과적으로 재생에너지 전환이 이루어질 수 있도록 노력하겠습니다.</p> <br><p id='126' data-category='paragraph' style='font-size:16px'>특히, 재생에너지 자가발전 확대를 위해 국내 사업장별 태양광발전시스템 투자계획을 세부적으로 수립하였습니다. 2023년 창원 1공장 본관 및 의<br>왕연구소 태양광 발전설비를 착공함으로써 투자계획을 실행하였습니다. 태양광 자가발전 투자는 비생산시설부터 시작하여 전력품질 점검 후 생산<br>시설로 확대할 예정이며, 국내 사업장에서 해외 사업장까지 태양광 자가발전 투자를 확대할 예정입니다. 또한 인도법인의 경우 PPA 계약 확대를<br>2023년 내 완료하여 재생에너지 사용 비율을 20%에서 40%까지 확대할 계획입니다.</p> <p id='127' data-category='paragraph' style='font-size:14px'>* RE100: 기업이 사용전력의 100%를 태양광, 풍력, 수력, 바이오, 지열 발전 등 재생에너지로 조달하겠다는 목표의 국제 캠페인</p> <p id='128' data-category='paragraph' style='font-size:14px'>단기</p> <p id='129' data-category='paragraph' style='font-size:14px'>• 중점 협력사 대상 온실가스 배출량(ESG data)<br>포함 정보 수집 및 관리</p> <br>\"),\n",
       " Document(metadata={'page': 27}, page_content=\"<p id='128' data-category='paragraph' style='font-size:14px'>단기</p> <p id='129' data-category='paragraph' style='font-size:14px'>• 중점 협력사 대상 온실가스 배출량(ESG data)<br>포함 정보 수집 및 관리</p> <br><p id='130' data-category='paragraph' style='font-size:14px'>• 관리 프로세스 정례화 및 모니터링 수행</p> <p id='131' data-category='paragraph' style='font-size:14px'>중장기</p> <br><p id='132' data-category='paragraph' style='font-size:18px'>국내 태양광발전시스템 투자 계획</p> <p id='133' data-category='paragraph' style='font-size:14px'>• 기타 1차 협력사, 해외 협력사 온실가스 배출량<br>정보 수집 및 관리</p> <br><p id='134' data-category='paragraph' style='font-size:14px'>• IT 플랫폼을 통한 통합관리로 운영 효율성 확대<br>(LCA 정보 연계)</p> <p id='135' data-category='paragraph' style='font-size:14px'>전략방안</p> <p id='136' data-category='paragraph' style='font-size:14px'>계열사, 지역 내<br>파트너십 활용</p> <br><p id='137' data-category='paragraph' style='font-size:14px'>협력사 공동 성과 공시 및<br>인센티브 제공</p> <p id='138' data-category='paragraph' style='font-size:14px'>• 계열사 합동 펀드 조성을<br>통한 Value Chain 전체의<br>저탄소 활동 지원</p> <br>\")]"
      ]
     },
     "execution_count": 15,
     "metadata": {},
     "output_type": "execute_result"
    }
   ],
   "source": [
    "vector_store = OracleVS(client=conn23c, \n",
    "                        embedding_function=upstage_embeddings,\n",
    "                        table_name=\"text_embeddings2\", \n",
    "                        distance_strategy=DistanceStrategy.DOT_PRODUCT)\n",
    "\n",
    "\n",
    "companies = [\"LG\", \"Samsung\", \"Carrier\", \"Winia\", \"Mitsubishi\", \"Panasonic\", \"Hansol\", \"Himade\", \"Century\", \"Haier\"]\n",
    "\n",
    "\n",
    "user_question = (\"What is the investment plan that the company LG allocated to support its climate change transition plan?\")\n",
    "print (\"The prompt to the LLM will be:\",user_question)\n",
    "\n",
    "for company in companies:\n",
    "    if company in user_question[0]:\n",
    "        retriever = vector_store.as_retriever(search_kwargs={'filter': {'company':company}})\n",
    "\n",
    "\n",
    "if user_question:\n",
    "    s3time =  time.time()\n",
    "    result_chunks=knowledge_base.similarity_search(user_question)\n",
    "    s4time = time.time()\n",
    "    print(f\"Search for the user question in the Oracle Database 23ai and return similar chunks duration: {round(s4time - s3time, 1)} sec.\")\n",
    "\n",
    "result_chunks\n"
   ]
  },
  {
   "cell_type": "code",
   "execution_count": 22,
   "metadata": {},
   "outputs": [],
   "source": [
    "from langchain_upstage import ChatUpstage\n",
    "from langchain_core.messages import HumanMessage, SystemMessage\n",
    " \n",
    "llm = ChatUpstage()\n",
    "\n",
    "template = \"\"\"Answer the question based only on the following context:\n",
    "              {context} \n",
    "              Question: {question} \n",
    "              \"\"\"\n",
    "prompt = PromptTemplate.from_template(template)\n"
   ]
  },
  {
   "cell_type": "code",
   "execution_count": 25,
   "metadata": {},
   "outputs": [
    {
     "name": "stdout",
     "output_type": "stream",
     "text": [
      "We are sending the prompt and RAG context to the LLM, wait a few seconds for the response...\n",
      "Question:  What is the investment plan that the company allocated to support its climate change transition plan?\n",
      "----------------------------------------------------------------------------------------------------\n",
      "The investment plan that the company allocated to support its climate change transition plan is not explicitly mentioned in the provided context.\n",
      "\n",
      "Send user question and ranked chunks to LLM and get answer duration: 2.7 sec.\n"
     ]
    }
   ],
   "source": [
    "#user_question = (\"What is the investment plan that the company allocated to support its climate change transition plan?\")\n",
    "\n",
    "s5time = time.time()\n",
    "print(\"We are sending the prompt and RAG context to the LLM, wait a few seconds for the response...\")\n",
    "chain = (\n",
    "  {\"context\": retriever, \"question\": RunnablePassthrough()}\n",
    "    | prompt\n",
    "    | llm\n",
    "    | StrOutputParser()\n",
    "    )\n",
    "response = chain.invoke(user_question)\n",
    "print(\"Question: \", user_question)\n",
    "print(\"-\"*100)\n",
    "print(response)\n",
    "\n",
    "s6time = time.time()\n",
    "print(\"\")\n",
    "print( f\"Send user question and ranked chunks to LLM and get answer duration: {round(s6time - s5time, 1)} sec.\")"
   ]
  }
 ],
 "metadata": {
  "kernelspec": {
   "display_name": "base",
   "language": "python",
   "name": "python3"
  },
  "language_info": {
   "codemirror_mode": {
    "name": "ipython",
    "version": 3
   },
   "file_extension": ".py",
   "mimetype": "text/x-python",
   "name": "python",
   "nbconvert_exporter": "python",
   "pygments_lexer": "ipython3",
   "version": "3.10.9"
  }
 },
 "nbformat": 4,
 "nbformat_minor": 2
}
